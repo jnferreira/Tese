{
 "cells": [
  {
   "cell_type": "code",
   "execution_count": 1,
   "metadata": {},
   "outputs": [],
   "source": [
    "import pandas as pd\n",
    "import numpy as np\n",
    "from matplotlib import pyplot as plt\n",
    "import seaborn as sns"
   ]
  },
  {
   "cell_type": "code",
   "execution_count": 2,
   "metadata": {},
   "outputs": [],
   "source": [
    "xls = pd.ExcelFile('../Dados/ANDA_2018_2019_2020_anonimizado.xlsx')\n",
    "df_2018 = pd.read_excel(xls, '2018')\n",
    "df_2019 = pd.read_excel(xls, '2019')\n",
    "df_2020 = pd.read_excel(xls, '2020')"
   ]
  },
  {
   "cell_type": "code",
   "execution_count": 59,
   "metadata": {},
   "outputs": [
    {
     "ename": "ModuleNotFoundError",
     "evalue": "No module named 'geopandas'",
     "output_type": "error",
     "traceback": [
      "\u001b[1;31m---------------------------------------------------------------------------\u001b[0m",
      "\u001b[1;31mModuleNotFoundError\u001b[0m                       Traceback (most recent call last)",
      "\u001b[1;32m<ipython-input-59-ed123bda6458>\u001b[0m in \u001b[0;36m<module>\u001b[1;34m\u001b[0m\n\u001b[1;32m----> 1\u001b[1;33m \u001b[1;32mimport\u001b[0m \u001b[0mgeopandas\u001b[0m\u001b[1;33m\u001b[0m\u001b[1;33m\u001b[0m\u001b[0m\n\u001b[0m\u001b[0;32m      2\u001b[0m \u001b[1;33m\u001b[0m\u001b[0m\n\u001b[0;32m      3\u001b[0m \u001b[0mdf\u001b[0m \u001b[1;33m=\u001b[0m \u001b[0mgeopandas\u001b[0m\u001b[1;33m.\u001b[0m\u001b[0mread_file\u001b[0m\u001b[1;33m(\u001b[0m\u001b[1;34m\"../Dados/andante_geo_2019.geojson\"\u001b[0m\u001b[1;33m)\u001b[0m\u001b[1;33m\u001b[0m\u001b[1;33m\u001b[0m\u001b[0m\n",
      "\u001b[1;31mModuleNotFoundError\u001b[0m: No module named 'geopandas'"
     ]
    }
   ],
   "source": [
    "import geopandas\n",
    "\n",
    "df = geopandas.read_file(\"../Dados/andante_geo_2019.geojson\")"
   ]
  },
  {
   "cell_type": "code",
   "execution_count": 45,
   "metadata": {},
   "outputs": [],
   "source": [
    "frames = [df_2018, df_2019, df_2020]\n",
    "\n",
    "data_df = pd.concat(frames)"
   ]
  },
  {
   "cell_type": "code",
   "execution_count": 46,
   "metadata": {},
   "outputs": [
    {
     "name": "stdout",
     "output_type": "stream",
     "text": [
      "Rows: 1073920 Columns: 33\n"
     ]
    }
   ],
   "source": [
    "r, c = data_df.shape\n",
    "print(\"Rows:\", r, \"Columns:\", c)"
   ]
  },
  {
   "cell_type": "code",
   "execution_count": 7,
   "metadata": {},
   "outputs": [
    {
     "data": {
      "text/plain": [
       "Index(['UserHash', 'Fabricante', 'Marca', 'Modelo', 'Versão SO',\n",
       "       'Modelo Comercial', 'Grupo do Cliente', 'Viagem', 'Hora Início Viagem',\n",
       "       'Hora Fim Viagem', 'Paragem Inicio Viagem', 'Paragem Fim Viagem',\n",
       "       'Zona de Início Viagem', 'Zona de Fim Viagem', 'Paragem Única',\n",
       "       'Sem Meio de Pagamento', 'Modo de Finalização', 'Etapa', 'Operador',\n",
       "       'Veiculo', 'Linha', 'Sentido', 'Hora Início Etapa', 'Hora Fim Etapa',\n",
       "       'Paragem Inicio Etapa', 'Paragem Fim Etapa', 'Zona de Início Etapa',\n",
       "       'Zona de Fim Etapa', 'Grupo de Título', 'Perfil Social',\n",
       "       'Número de Zonas', 'Lista de Zonas', 'Resultado do Processamento'],\n",
       "      dtype='object')"
      ]
     },
     "execution_count": 7,
     "metadata": {},
     "output_type": "execute_result"
    }
   ],
   "source": [
    "data_df.columns"
   ]
  },
  {
   "cell_type": "code",
   "execution_count": 8,
   "metadata": {},
   "outputs": [
    {
     "data": {
      "text/html": [
       "<div>\n",
       "<style scoped>\n",
       "    .dataframe tbody tr th:only-of-type {\n",
       "        vertical-align: middle;\n",
       "    }\n",
       "\n",
       "    .dataframe tbody tr th {\n",
       "        vertical-align: top;\n",
       "    }\n",
       "\n",
       "    .dataframe thead th {\n",
       "        text-align: right;\n",
       "    }\n",
       "</style>\n",
       "<table border=\"1\" class=\"dataframe\">\n",
       "  <thead>\n",
       "    <tr style=\"text-align: right;\">\n",
       "      <th></th>\n",
       "      <th>Paragem Fim Etapa</th>\n",
       "      <th>Paragem Fim Viagem</th>\n",
       "    </tr>\n",
       "  </thead>\n",
       "  <tbody>\n",
       "    <tr>\n",
       "      <th>0</th>\n",
       "      <td>Trindade</td>\n",
       "      <td>Trindade</td>\n",
       "    </tr>\n",
       "    <tr>\n",
       "      <th>1</th>\n",
       "      <td>Gólgota</td>\n",
       "      <td>Gólgota</td>\n",
       "    </tr>\n",
       "    <tr>\n",
       "      <th>2</th>\n",
       "      <td>Trindade</td>\n",
       "      <td>Trindade</td>\n",
       "    </tr>\n",
       "    <tr>\n",
       "      <th>3</th>\n",
       "      <td>Sra. Hora (Metro)</td>\n",
       "      <td>Sra. Hora (Metro)</td>\n",
       "    </tr>\n",
       "    <tr>\n",
       "      <th>4</th>\n",
       "      <td>Trindade</td>\n",
       "      <td>Trindade</td>\n",
       "    </tr>\n",
       "    <tr>\n",
       "      <th>...</th>\n",
       "      <td>...</td>\n",
       "      <td>...</td>\n",
       "    </tr>\n",
       "    <tr>\n",
       "      <th>126532</th>\n",
       "      <td>24 de Agosto</td>\n",
       "      <td>24 de Agosto</td>\n",
       "    </tr>\n",
       "    <tr>\n",
       "      <th>126533</th>\n",
       "      <td>Ermesinde</td>\n",
       "      <td>Ermesinde</td>\n",
       "    </tr>\n",
       "    <tr>\n",
       "      <th>126534</th>\n",
       "      <td>D.João II (Metro)</td>\n",
       "      <td>D.João II (Metro)</td>\n",
       "    </tr>\n",
       "    <tr>\n",
       "      <th>126535</th>\n",
       "      <td>S. Mamede</td>\n",
       "      <td>S. Mamede</td>\n",
       "    </tr>\n",
       "    <tr>\n",
       "      <th>126536</th>\n",
       "      <td>Parque de Real</td>\n",
       "      <td>Parque de Real</td>\n",
       "    </tr>\n",
       "  </tbody>\n",
       "</table>\n",
       "<p>1073920 rows × 2 columns</p>\n",
       "</div>"
      ],
      "text/plain": [
       "        Paragem Fim Etapa Paragem Fim Viagem\n",
       "0                Trindade           Trindade\n",
       "1                 Gólgota            Gólgota\n",
       "2                Trindade           Trindade\n",
       "3       Sra. Hora (Metro)  Sra. Hora (Metro)\n",
       "4                Trindade           Trindade\n",
       "...                   ...                ...\n",
       "126532       24 de Agosto       24 de Agosto\n",
       "126533          Ermesinde          Ermesinde\n",
       "126534  D.João II (Metro)  D.João II (Metro)\n",
       "126535          S. Mamede          S. Mamede\n",
       "126536     Parque de Real     Parque de Real\n",
       "\n",
       "[1073920 rows x 2 columns]"
      ]
     },
     "execution_count": 8,
     "metadata": {},
     "output_type": "execute_result"
    }
   ],
   "source": [
    "data_df[[\"Paragem Fim Etapa\", \"Paragem Fim Viagem\"]]"
   ]
  },
  {
   "cell_type": "code",
   "execution_count": 9,
   "metadata": {},
   "outputs": [
    {
     "data": {
      "text/plain": [
       "E8E19C62-2E64-4985-A2E0-D8B13A9F6C46    2\n",
       "DEEB14E5-5565-4906-BA8B-8F900104F7FE    2\n",
       "4EE561A1-76D6-4E3B-A6BD-2B4CB0337763    2\n",
       "EA3384AF-B3B5-4E44-A371-B7AC93096B2B    2\n",
       "A438BA11-3B44-47A0-B65D-B49D41231C0A    2\n",
       "                                       ..\n",
       "1B4616B7-BB14-4AFD-8ACA-E13A13634FE8    1\n",
       "98BB2AC9-E335-4836-AE51-37475791FD7E    1\n",
       "969A78B1-E6C1-40F1-982E-B7FDC13441D3    1\n",
       "561BDEF7-A86E-4493-9697-AFA83BE421EE    1\n",
       "02E43467-5CF2-4160-AFEF-0538C81D0255    1\n",
       "Name: Etapa, Length: 1069859, dtype: int64"
      ]
     },
     "execution_count": 9,
     "metadata": {},
     "output_type": "execute_result"
    }
   ],
   "source": [
    "data_df[\"Etapa\"].value_counts()"
   ]
  },
  {
   "cell_type": "code",
   "execution_count": 10,
   "metadata": {},
   "outputs": [
    {
     "data": {
      "text/plain": [
       "1059994"
      ]
     },
     "execution_count": 10,
     "metadata": {},
     "output_type": "execute_result"
    }
   ],
   "source": [
    "data_df[\"Viagem\"].nunique()"
   ]
  },
  {
   "cell_type": "code",
   "execution_count": 11,
   "metadata": {
    "scrolled": true
   },
   "outputs": [
    {
     "data": {
      "text/plain": [
       "90DE043C-4409-4F37-AE28-3CAA7C6D8334    6\n",
       "7C489E28-D945-401C-AFBC-4E2D42FEFA6C    6\n",
       "4B62416C-CAFE-4F20-84BB-583B6DA6A029    6\n",
       "66312026-F015-410B-A171-09469C242E28    6\n",
       "9DAF08C8-503E-4FD7-B458-138A53046B65    5\n",
       "                                       ..\n",
       "CE32058B-6F35-497D-AC0D-E4F3FB74A426    1\n",
       "83A4E0A2-006A-44C3-9C2B-D93800E4A597    1\n",
       "798C01B5-5D46-4738-9070-886E89553C9E    1\n",
       "F6E3C142-DD79-4AB8-9E56-2BA75F78B03E    1\n",
       "893DB2A3-C596-4E17-B75E-26EA8312FC16    1\n",
       "Name: Viagem, Length: 1059994, dtype: int64"
      ]
     },
     "execution_count": 11,
     "metadata": {},
     "output_type": "execute_result"
    }
   ],
   "source": [
    "data_df[\"Viagem\"].value_counts()"
   ]
  },
  {
   "cell_type": "code",
   "execution_count": 12,
   "metadata": {},
   "outputs": [
    {
     "data": {
      "text/plain": [
       "7ccc6054be89f1e1aa1a5130b7c81682de42110d    3303\n",
       "77381d66c7494713e5939cd5c45c015f9f55f909    2666\n",
       "d156e73efe49caa923190d899784451681566480    2269\n",
       "c8ca8586b8a9c18dcf269db5bfa3e03e5f103769    2241\n",
       "9932eccb97611c50526ce6b1ab201617add53312    2220\n",
       "                                            ... \n",
       "803e97b85a48aee5bc9dc08f4b6572cecdc0bca6       1\n",
       "4e20a42c9f6cfa23fc16cc3577539d7769cc9b93       1\n",
       "5f50635db6cfb5bf328e46c7e177099e048eced8       1\n",
       "7c61cf8a11820fc0f889fb0f48da91de2c48b461       1\n",
       "3748a3845f9ddf84c22ef2330f24bb8b74cc3a34       1\n",
       "Name: UserHash, Length: 10022, dtype: int64"
      ]
     },
     "execution_count": 12,
     "metadata": {},
     "output_type": "execute_result"
    }
   ],
   "source": [
    "data_df.UserHash.value_counts()"
   ]
  },
  {
   "cell_type": "markdown",
   "metadata": {},
   "source": [
    "* **User Hash** column transformed to numeric **User ID**"
   ]
  },
  {
   "cell_type": "code",
   "execution_count": 13,
   "metadata": {},
   "outputs": [],
   "source": [
    "data_df['user_id'] = pd.factorize( data_df['UserHash'] )[0]"
   ]
  },
  {
   "cell_type": "code",
   "execution_count": 14,
   "metadata": {},
   "outputs": [
    {
     "data": {
      "text/plain": [
       "60      3303\n",
       "180     2666\n",
       "243     2269\n",
       "39      2241\n",
       "448     2220\n",
       "        ... \n",
       "8148       1\n",
       "3613       1\n",
       "9355       1\n",
       "4903       1\n",
       "7342       1\n",
       "Name: user_id, Length: 10022, dtype: int64"
      ]
     },
     "execution_count": 14,
     "metadata": {},
     "output_type": "execute_result"
    }
   ],
   "source": [
    "data_df['user_id'].value_counts()"
   ]
  },
  {
   "cell_type": "markdown",
   "metadata": {},
   "source": [
    "* Number of users"
   ]
  },
  {
   "cell_type": "code",
   "execution_count": 15,
   "metadata": {},
   "outputs": [
    {
     "data": {
      "text/plain": [
       "10022"
      ]
     },
     "execution_count": 15,
     "metadata": {},
     "output_type": "execute_result"
    }
   ],
   "source": [
    "data_df['user_id'].nunique()"
   ]
  },
  {
   "cell_type": "markdown",
   "metadata": {},
   "source": [
    "* Social profile is **NaN** when Group Title is **\"Título de Viagem\"**"
   ]
  },
  {
   "cell_type": "code",
   "execution_count": 16,
   "metadata": {},
   "outputs": [
    {
     "data": {
      "text/plain": [
       "<AxesSubplot:>"
      ]
     },
     "execution_count": 16,
     "metadata": {},
     "output_type": "execute_result"
    },
    {
     "data": {
      "image/png": "[encoded data removed]",
      "text/plain": [
       "<Figure size 432x288 with 1 Axes>"
      ]
     },
     "metadata": {
      "needs_background": "light"
     },
     "output_type": "display_data"
    }
   ],
   "source": [
    "data_df[\"Perfil Social\"].value_counts().plot.bar()"
   ]
  },
  {
   "cell_type": "code",
   "execution_count": 17,
   "metadata": {},
   "outputs": [
    {
     "data": {
      "text/plain": [
       "Viagem não partida      1069943\n",
       "Tarifa não calculada       3977\n",
       "Name: Resultado do Processamento, dtype: int64"
      ]
     },
     "execution_count": 17,
     "metadata": {},
     "output_type": "execute_result"
    }
   ],
   "source": [
    "data_df[\"Resultado do Processamento\"].value_counts()"
   ]
  },
  {
   "cell_type": "code",
   "execution_count": 18,
   "metadata": {},
   "outputs": [
    {
     "data": {
      "text/plain": [
       "Outros      1069571\n",
       "Card4B         3956\n",
       "Novabase        270\n",
       "Valpi           123\n",
       "Name: Grupo do Cliente, dtype: int64"
      ]
     },
     "execution_count": 18,
     "metadata": {},
     "output_type": "execute_result"
    }
   ],
   "source": [
    "data_df[\"Grupo do Cliente\"].value_counts()"
   ]
  },
  {
   "cell_type": "code",
   "execution_count": 19,
   "metadata": {},
   "outputs": [
    {
     "data": {
      "text/plain": [
       "Não    927799\n",
       "Sim    146121\n",
       "Name: Paragem Única, dtype: int64"
      ]
     },
     "execution_count": 19,
     "metadata": {},
     "output_type": "execute_result"
    }
   ],
   "source": [
    "data_df[\"Paragem Única\"].value_counts()"
   ]
  },
  {
   "cell_type": "code",
   "execution_count": 20,
   "metadata": {},
   "outputs": [
    {
     "data": {
      "text/plain": [
       "Não    1068857\n",
       "Sim       5063\n",
       "Name: Sem Meio de Pagamento, dtype: int64"
      ]
     },
     "execution_count": 20,
     "metadata": {},
     "output_type": "execute_result"
    }
   ],
   "source": [
    "data_df[\"Sem Meio de Pagamento\"].value_counts()"
   ]
  },
  {
   "cell_type": "code",
   "execution_count": 21,
   "metadata": {},
   "outputs": [
    {
     "name": "stdout",
     "output_type": "stream",
     "text": [
      "Número de Modelos: 493 Número de Versão SO: 2427\n"
     ]
    }
   ],
   "source": [
    "print(\"Número de Modelos:\", data_df[\"Modelo\"].nunique(), \"Número de Versão SO:\", data_df[\"Versão SO\"].nunique())"
   ]
  },
  {
   "cell_type": "code",
   "execution_count": 22,
   "metadata": {},
   "outputs": [
    {
     "data": {
      "image/png": "[encoded data removed]",
      "text/plain": [
       "<Figure size 1440x1080 with 1 Axes>"
      ]
     },
     "metadata": {
      "needs_background": "light"
     },
     "output_type": "display_data"
    }
   ],
   "source": [
    "data_df[\"Marca\"].value_counts().plot.barh(figsize=(20,15), fontsize=15).invert_yaxis()"
   ]
  },
  {
   "cell_type": "code",
   "execution_count": 23,
   "metadata": {},
   "outputs": [
    {
     "data": {
      "text/plain": [
       "PRA-LX1         52685\n",
       "ANE-LX1         47457\n",
       "FIG-LX1         40901\n",
       "SM-G950F        38967\n",
       "WAS-LX1A        31015\n",
       "                ...  \n",
       "Armor               1\n",
       "CPH1979             1\n",
       "SM-A500F            1\n",
       "NOS NEVA 80         1\n",
       "HTC U11 life        1\n",
       "Name: Modelo, Length: 493, dtype: int64"
      ]
     },
     "execution_count": 23,
     "metadata": {},
     "output_type": "execute_result"
    }
   ],
   "source": [
    "data_df[\"Modelo\"].value_counts()"
   ]
  },
  {
   "cell_type": "code",
   "execution_count": 24,
   "metadata": {},
   "outputs": [
    {
     "data": {
      "text/plain": [
       "7.0 REL J530FXXU2ARG2       14255\n",
       "7.1.1 REL J510FNXXU2BRE6    13291\n",
       "8.0.0 REL 402(C432)         12962\n",
       "8.0.0 REL G950FXXU3CRGH     12739\n",
       "7.0 REL G920FXXU6ERF5       11724\n",
       "                            ...  \n",
       "7.0 REL C432B506                1\n",
       "9 REL N970FXXS1ASKB             1\n",
       "6.0 REL v1B31-0                 1\n",
       "6.0 REL 1495522287              1\n",
       "6.0 REL C432B182                1\n",
       "Name: Versão SO, Length: 2427, dtype: int64"
      ]
     },
     "execution_count": 24,
     "metadata": {},
     "output_type": "execute_result"
    }
   ],
   "source": [
    "data_df[\"Versão SO\"].value_counts()"
   ]
  },
  {
   "cell_type": "code",
   "execution_count": 25,
   "metadata": {},
   "outputs": [
    {
     "data": {
      "text/plain": [
       "Finalização por deteção de passos, não confirmado                353292\n",
       "Finalização por início de uma nova etapa                         205058\n",
       "Finalização por timeout não confirmado                           187313\n",
       "Finalização por deteção de passos, confirmado                     82295\n",
       "Finalização por tempo com bluetooth desligado excedido            72032\n",
       "Finalização por novo arranque com viagem em curso                 55372\n",
       "Finalização por timeout confirmado                                45516\n",
       "Finalização por timeout na 1ª paragem não confirmado              34014\n",
       "Finalização por informação repetida não confirmado                18526\n",
       "Finalização por timeout na 1ª paragem confirmado                  11446\n",
       "Finalização por informação repetida confirmado                     5563\n",
       "Finalização manual                                                 2837\n",
       "Finalização por excesso de ocorrências de bluetooth desligado        54\n",
       "Finalização por timeout                                              22\n",
       "Finalização por falta de permissão para viajar                       11\n",
       "Name: Modo de Finalização, dtype: int64"
      ]
     },
     "execution_count": 25,
     "metadata": {},
     "output_type": "execute_result"
    }
   ],
   "source": [
    "data_df[\"Modo de Finalização\"].value_counts()"
   ]
  },
  {
   "cell_type": "code",
   "execution_count": 26,
   "metadata": {},
   "outputs": [
    {
     "data": {
      "text/plain": [
       "Ida         215558\n",
       "Volta       201385\n",
       "Circular       554\n",
       "Name: Sentido, dtype: int64"
      ]
     },
     "execution_count": 26,
     "metadata": {},
     "output_type": "execute_result"
    }
   ],
   "source": [
    "data_df[\"Sentido\"].value_counts()"
   ]
  },
  {
   "cell_type": "code",
   "execution_count": 27,
   "metadata": {},
   "outputs": [
    {
     "data": {
      "text/plain": [
       "MP                        604795\n",
       "STCP                      357380\n",
       "CP-Porto                   51304\n",
       "Resende                    17147\n",
       "Gondomarense               16340\n",
       "VALPI                      10480\n",
       "Espírito Santo              9327\n",
       "OFR                         3311\n",
       "Maia Transportes            2268\n",
       "Nogueira da Costa            913\n",
       "Funicular dos Guindais       571\n",
       "Rodonorte                     84\n",
       "Name: Operador, dtype: int64"
      ]
     },
     "execution_count": 27,
     "metadata": {},
     "output_type": "execute_result"
    }
   ],
   "source": [
    "data_df[\"Operador\"].value_counts()"
   ]
  },
  {
   "cell_type": "markdown",
   "metadata": {},
   "source": [
    "* In which months had more trips?\n",
    "* Number of trips by year? Evolution?\n",
    "* In which seasons there is more trips\n",
    "* In which hours have more trips?"
   ]
  },
  {
   "cell_type": "code",
   "execution_count": 28,
   "metadata": {},
   "outputs": [
    {
     "data": {
      "image/png": "[encoded data removed]",
      "text/plain": [
       "<Figure size 1440x792 with 1 Axes>"
      ]
     },
     "metadata": {
      "needs_background": "light"
     },
     "output_type": "display_data"
    },
    {
     "data": {
      "text/plain": [
       "(None,\n",
       " MP                        604795\n",
       " STCP                      357380\n",
       " CP-Porto                   51304\n",
       " Resende                    17147\n",
       " Gondomarense               16340\n",
       " VALPI                      10480\n",
       " Espírito Santo              9327\n",
       " OFR                         3311\n",
       " Maia Transportes            2268\n",
       " Nogueira da Costa            913\n",
       " Funicular dos Guindais       571\n",
       " Rodonorte                     84\n",
       " Name: Operador, dtype: int64)"
      ]
     },
     "execution_count": 28,
     "metadata": {},
     "output_type": "execute_result"
    }
   ],
   "source": [
    "data_df[\"Operador\"].hist(bins=30, figsize=(20,11))\n",
    "plt.xticks(fontsize=12)\n",
    "plt.show(), data_df[\"Operador\"].value_counts()"
   ]
  },
  {
   "cell_type": "code",
   "execution_count": 29,
   "metadata": {},
   "outputs": [],
   "source": [
    "data_df[\"Hora Início Viagem\"] = pd.to_datetime(data_df['Hora Início Viagem'], format=\"%Y-%m-%d %H:%M:%S\")\n",
    "data_df[\"Hora Fim Viagem\"] = pd.to_datetime(data_df['Hora Início Viagem'], format=\"%Y-%m-%d %H:%M:%S\")"
   ]
  },
  {
   "cell_type": "code",
   "execution_count": 30,
   "metadata": {},
   "outputs": [],
   "source": [
    "data_df[\"Ano do Início Viagem\"] = data_df[\"Hora Início Viagem\"].dt.year\n",
    "data_df[\"Mês do Início Viagem\"] = data_df[\"Hora Início Viagem\"].dt.month\n",
    "data_df[\"Dia do Início Viagem\"] = data_df[\"Hora Início Viagem\"].dt.day\n",
    "\n",
    "data_df[\"Hora do Início Viagem\"] = data_df[\"Hora Início Viagem\"].dt.hour"
   ]
  },
  {
   "cell_type": "code",
   "execution_count": 31,
   "metadata": {},
   "outputs": [],
   "source": [
    "data_df[\"Ano do Fim Viagem\"] = data_df[\"Hora Fim Viagem\"].dt.year\n",
    "data_df[\"Mês do Fim Viagem\"] = data_df[\"Hora Fim Viagem\"].dt.month\n",
    "data_df[\"Dia do Fim Viagem\"] = data_df[\"Hora Fim Viagem\"].dt.day\n",
    "\n",
    "data_df[\"Hora do Fim Viagem\"] = data_df[\"Hora Fim Viagem\"].dt.hour"
   ]
  },
  {
   "cell_type": "code",
   "execution_count": 32,
   "metadata": {},
   "outputs": [
    {
     "data": {
      "text/plain": [
       "2019    700446\n",
       "2018    246937\n",
       "2020    126537\n",
       "Name: Ano do Início Viagem, dtype: int64"
      ]
     },
     "execution_count": 32,
     "metadata": {},
     "output_type": "execute_result"
    }
   ],
   "source": [
    "data_df[\"Ano do Início Viagem\"].value_counts()"
   ]
  },
  {
   "cell_type": "code",
   "execution_count": 33,
   "metadata": {},
   "outputs": [
    {
     "data": {
      "text/plain": [
       "<AxesSubplot:xlabel='Dia do Início Viagem'>"
      ]
     },
     "execution_count": 33,
     "metadata": {},
     "output_type": "execute_result"
    },
    {
     "data": {
      "image/png": "[encoded data removed]",
      "text/plain": [
       "<Figure size 432x288 with 1 Axes>"
      ]
     },
     "metadata": {
      "needs_background": "light"
     },
     "output_type": "display_data"
    }
   ],
   "source": [
    "data_df['Viagem'].groupby(data_df[\"Dia do Início Viagem\"]).agg('count').plot.bar()"
   ]
  },
  {
   "cell_type": "code",
   "execution_count": 34,
   "metadata": {},
   "outputs": [
    {
     "data": {
      "text/plain": [
       "<AxesSubplot:xlabel='Hora do Início Viagem'>"
      ]
     },
     "execution_count": 34,
     "metadata": {},
     "output_type": "execute_result"
    },
    {
     "data": {
      "image/png": "[encoded data removed]",
      "text/plain": [
       "<Figure size 432x288 with 1 Axes>"
      ]
     },
     "metadata": {
      "needs_background": "light"
     },
     "output_type": "display_data"
    }
   ],
   "source": [
    "data_df['Viagem'].groupby(data_df[\"Hora do Início Viagem\"]).agg('count').plot.bar()"
   ]
  },
  {
   "cell_type": "code",
   "execution_count": 35,
   "metadata": {},
   "outputs": [
    {
     "data": {
      "text/plain": [
       "<AxesSubplot:xlabel='Mês do Início Viagem'>"
      ]
     },
     "execution_count": 35,
     "metadata": {},
     "output_type": "execute_result"
    },
    {
     "data": {
      "image/png": "[encoded data removed]",
      "text/plain": [
       "<Figure size 432x288 with 1 Axes>"
      ]
     },
     "metadata": {
      "needs_background": "light"
     },
     "output_type": "display_data"
    }
   ],
   "source": [
    "data_df['Viagem'].groupby(data_df[\"Mês do Início Viagem\"]).agg('count').plot.bar()"
   ]
  },
  {
   "cell_type": "markdown",
   "metadata": {},
   "source": [
    "* Tempo de viagem médio?\n",
    "* Dias em que o tempo de viagem é maior?\n",
    "* Quais os transportes públicos que "
   ]
  },
  {
   "cell_type": "code",
   "execution_count": 36,
   "metadata": {},
   "outputs": [],
   "source": [
    "data_df[\"Dia da Semana do Início Viagem\"] = data_df[\"Hora Início Viagem\"].dt.day_name()"
   ]
  },
  {
   "cell_type": "code",
   "execution_count": 37,
   "metadata": {},
   "outputs": [],
   "source": [
    "weekdays = [\"Monday\", \"Tuesday\", \"Wednesday\", \"Thursday\", \"Friday\", \"Saturday\", \"Sunday\"]\n",
    "data_df['Dia da Semana do Início Viagem'] = pd.Categorical(data_df['Dia da Semana do Início Viagem'], categories=weekdays)\n",
    "data_df = data_df.sort_values('Dia da Semana do Início Viagem')"
   ]
  },
  {
   "cell_type": "code",
   "execution_count": 38,
   "metadata": {},
   "outputs": [
    {
     "data": {
      "text/html": [
       "<div>\n",
       "<style scoped>\n",
       "    .dataframe tbody tr th:only-of-type {\n",
       "        vertical-align: middle;\n",
       "    }\n",
       "\n",
       "    .dataframe tbody tr th {\n",
       "        vertical-align: top;\n",
       "    }\n",
       "\n",
       "    .dataframe thead th {\n",
       "        text-align: right;\n",
       "    }\n",
       "</style>\n",
       "<table border=\"1\" class=\"dataframe\">\n",
       "  <thead>\n",
       "    <tr style=\"text-align: right;\">\n",
       "      <th></th>\n",
       "      <th></th>\n",
       "      <th>Viagem</th>\n",
       "    </tr>\n",
       "    <tr>\n",
       "      <th>Dia da Semana do Início Viagem</th>\n",
       "      <th>Hora do Início Viagem</th>\n",
       "      <th></th>\n",
       "    </tr>\n",
       "  </thead>\n",
       "  <tbody>\n",
       "    <tr>\n",
       "      <th rowspan=\"5\" valign=\"top\">Monday</th>\n",
       "      <th>0</th>\n",
       "      <td>1237</td>\n",
       "    </tr>\n",
       "    <tr>\n",
       "      <th>1</th>\n",
       "      <td>305</td>\n",
       "    </tr>\n",
       "    <tr>\n",
       "      <th>2</th>\n",
       "      <td>204</td>\n",
       "    </tr>\n",
       "    <tr>\n",
       "      <th>3</th>\n",
       "      <td>172</td>\n",
       "    </tr>\n",
       "    <tr>\n",
       "      <th>4</th>\n",
       "      <td>134</td>\n",
       "    </tr>\n",
       "    <tr>\n",
       "      <th>...</th>\n",
       "      <th>...</th>\n",
       "      <td>...</td>\n",
       "    </tr>\n",
       "    <tr>\n",
       "      <th rowspan=\"5\" valign=\"top\">Sunday</th>\n",
       "      <th>19</th>\n",
       "      <td>4720</td>\n",
       "    </tr>\n",
       "    <tr>\n",
       "      <th>20</th>\n",
       "      <td>3547</td>\n",
       "    </tr>\n",
       "    <tr>\n",
       "      <th>21</th>\n",
       "      <td>2485</td>\n",
       "    </tr>\n",
       "    <tr>\n",
       "      <th>22</th>\n",
       "      <td>2298</td>\n",
       "    </tr>\n",
       "    <tr>\n",
       "      <th>23</th>\n",
       "      <td>1862</td>\n",
       "    </tr>\n",
       "  </tbody>\n",
       "</table>\n",
       "<p>168 rows × 1 columns</p>\n",
       "</div>"
      ],
      "text/plain": [
       "                                                      Viagem\n",
       "Dia da Semana do Início Viagem Hora do Início Viagem        \n",
       "Monday                         0                        1237\n",
       "                               1                         305\n",
       "                               2                         204\n",
       "                               3                         172\n",
       "                               4                         134\n",
       "...                                                      ...\n",
       "Sunday                         19                       4720\n",
       "                               20                       3547\n",
       "                               21                       2485\n",
       "                               22                       2298\n",
       "                               23                       1862\n",
       "\n",
       "[168 rows x 1 columns]"
      ]
     },
     "execution_count": 38,
     "metadata": {},
     "output_type": "execute_result"
    }
   ],
   "source": [
    "df_hour_per_weekday= data_df.groupby(['Dia da Semana do Início Viagem', 'Hora do Início Viagem'])['Viagem'].count().to_frame()\n",
    "df_hour_per_weekday"
   ]
  },
  {
   "cell_type": "code",
   "execution_count": 39,
   "metadata": {},
   "outputs": [
    {
     "data": {
      "text/html": [
       "<div>\n",
       "<style scoped>\n",
       "    .dataframe tbody tr th:only-of-type {\n",
       "        vertical-align: middle;\n",
       "    }\n",
       "\n",
       "    .dataframe tbody tr th {\n",
       "        vertical-align: top;\n",
       "    }\n",
       "\n",
       "    .dataframe thead th {\n",
       "        text-align: right;\n",
       "    }\n",
       "</style>\n",
       "<table border=\"1\" class=\"dataframe\">\n",
       "  <thead>\n",
       "    <tr style=\"text-align: right;\">\n",
       "      <th>Hora do Início Viagem</th>\n",
       "      <th>0</th>\n",
       "      <th>1</th>\n",
       "      <th>2</th>\n",
       "      <th>3</th>\n",
       "      <th>4</th>\n",
       "      <th>5</th>\n",
       "      <th>6</th>\n",
       "      <th>7</th>\n",
       "      <th>8</th>\n",
       "      <th>9</th>\n",
       "      <th>...</th>\n",
       "      <th>14</th>\n",
       "      <th>15</th>\n",
       "      <th>16</th>\n",
       "      <th>17</th>\n",
       "      <th>18</th>\n",
       "      <th>19</th>\n",
       "      <th>20</th>\n",
       "      <th>21</th>\n",
       "      <th>22</th>\n",
       "      <th>23</th>\n",
       "    </tr>\n",
       "    <tr>\n",
       "      <th>Dia da Semana do Início Viagem</th>\n",
       "      <th></th>\n",
       "      <th></th>\n",
       "      <th></th>\n",
       "      <th></th>\n",
       "      <th></th>\n",
       "      <th></th>\n",
       "      <th></th>\n",
       "      <th></th>\n",
       "      <th></th>\n",
       "      <th></th>\n",
       "      <th></th>\n",
       "      <th></th>\n",
       "      <th></th>\n",
       "      <th></th>\n",
       "      <th></th>\n",
       "      <th></th>\n",
       "      <th></th>\n",
       "      <th></th>\n",
       "      <th></th>\n",
       "      <th></th>\n",
       "      <th></th>\n",
       "    </tr>\n",
       "  </thead>\n",
       "  <tbody>\n",
       "    <tr>\n",
       "      <th>Monday</th>\n",
       "      <td>1237</td>\n",
       "      <td>305</td>\n",
       "      <td>204</td>\n",
       "      <td>172</td>\n",
       "      <td>134</td>\n",
       "      <td>323</td>\n",
       "      <td>2081</td>\n",
       "      <td>11329</td>\n",
       "      <td>23623</td>\n",
       "      <td>15090</td>\n",
       "      <td>...</td>\n",
       "      <td>8399</td>\n",
       "      <td>8035</td>\n",
       "      <td>9815</td>\n",
       "      <td>16759</td>\n",
       "      <td>24257</td>\n",
       "      <td>14230</td>\n",
       "      <td>6509</td>\n",
       "      <td>3046</td>\n",
       "      <td>2595</td>\n",
       "      <td>2334</td>\n",
       "    </tr>\n",
       "    <tr>\n",
       "      <th>Tuesday</th>\n",
       "      <td>1435</td>\n",
       "      <td>261</td>\n",
       "      <td>121</td>\n",
       "      <td>132</td>\n",
       "      <td>86</td>\n",
       "      <td>243</td>\n",
       "      <td>2032</td>\n",
       "      <td>11471</td>\n",
       "      <td>23922</td>\n",
       "      <td>15176</td>\n",
       "      <td>...</td>\n",
       "      <td>8359</td>\n",
       "      <td>8291</td>\n",
       "      <td>10045</td>\n",
       "      <td>16812</td>\n",
       "      <td>24364</td>\n",
       "      <td>14499</td>\n",
       "      <td>6902</td>\n",
       "      <td>3400</td>\n",
       "      <td>2987</td>\n",
       "      <td>2532</td>\n",
       "    </tr>\n",
       "    <tr>\n",
       "      <th>Wednesday</th>\n",
       "      <td>1503</td>\n",
       "      <td>343</td>\n",
       "      <td>167</td>\n",
       "      <td>134</td>\n",
       "      <td>160</td>\n",
       "      <td>291</td>\n",
       "      <td>2054</td>\n",
       "      <td>11295</td>\n",
       "      <td>23567</td>\n",
       "      <td>15245</td>\n",
       "      <td>...</td>\n",
       "      <td>8619</td>\n",
       "      <td>8257</td>\n",
       "      <td>10551</td>\n",
       "      <td>17044</td>\n",
       "      <td>25018</td>\n",
       "      <td>15227</td>\n",
       "      <td>6833</td>\n",
       "      <td>3484</td>\n",
       "      <td>3234</td>\n",
       "      <td>2606</td>\n",
       "    </tr>\n",
       "    <tr>\n",
       "      <th>Thursday</th>\n",
       "      <td>1558</td>\n",
       "      <td>282</td>\n",
       "      <td>144</td>\n",
       "      <td>125</td>\n",
       "      <td>112</td>\n",
       "      <td>291</td>\n",
       "      <td>2131</td>\n",
       "      <td>11144</td>\n",
       "      <td>23536</td>\n",
       "      <td>15547</td>\n",
       "      <td>...</td>\n",
       "      <td>8842</td>\n",
       "      <td>8496</td>\n",
       "      <td>10401</td>\n",
       "      <td>16711</td>\n",
       "      <td>24169</td>\n",
       "      <td>15027</td>\n",
       "      <td>7411</td>\n",
       "      <td>3649</td>\n",
       "      <td>2983</td>\n",
       "      <td>2450</td>\n",
       "    </tr>\n",
       "    <tr>\n",
       "      <th>Friday</th>\n",
       "      <td>1763</td>\n",
       "      <td>351</td>\n",
       "      <td>170</td>\n",
       "      <td>132</td>\n",
       "      <td>142</td>\n",
       "      <td>256</td>\n",
       "      <td>2221</td>\n",
       "      <td>10699</td>\n",
       "      <td>23365</td>\n",
       "      <td>14840</td>\n",
       "      <td>...</td>\n",
       "      <td>9338</td>\n",
       "      <td>8998</td>\n",
       "      <td>11419</td>\n",
       "      <td>17061</td>\n",
       "      <td>22989</td>\n",
       "      <td>14090</td>\n",
       "      <td>7852</td>\n",
       "      <td>4059</td>\n",
       "      <td>3214</td>\n",
       "      <td>3046</td>\n",
       "    </tr>\n",
       "    <tr>\n",
       "      <th>Saturday</th>\n",
       "      <td>2514</td>\n",
       "      <td>596</td>\n",
       "      <td>328</td>\n",
       "      <td>245</td>\n",
       "      <td>221</td>\n",
       "      <td>259</td>\n",
       "      <td>965</td>\n",
       "      <td>2134</td>\n",
       "      <td>3647</td>\n",
       "      <td>4157</td>\n",
       "      <td>...</td>\n",
       "      <td>5740</td>\n",
       "      <td>6474</td>\n",
       "      <td>6583</td>\n",
       "      <td>6573</td>\n",
       "      <td>7333</td>\n",
       "      <td>6859</td>\n",
       "      <td>4906</td>\n",
       "      <td>3226</td>\n",
       "      <td>2970</td>\n",
       "      <td>2830</td>\n",
       "    </tr>\n",
       "    <tr>\n",
       "      <th>Sunday</th>\n",
       "      <td>2234</td>\n",
       "      <td>580</td>\n",
       "      <td>355</td>\n",
       "      <td>268</td>\n",
       "      <td>248</td>\n",
       "      <td>230</td>\n",
       "      <td>646</td>\n",
       "      <td>1236</td>\n",
       "      <td>1726</td>\n",
       "      <td>2278</td>\n",
       "      <td>...</td>\n",
       "      <td>3828</td>\n",
       "      <td>4509</td>\n",
       "      <td>5025</td>\n",
       "      <td>4909</td>\n",
       "      <td>5121</td>\n",
       "      <td>4720</td>\n",
       "      <td>3547</td>\n",
       "      <td>2485</td>\n",
       "      <td>2298</td>\n",
       "      <td>1862</td>\n",
       "    </tr>\n",
       "  </tbody>\n",
       "</table>\n",
       "<p>7 rows × 24 columns</p>\n",
       "</div>"
      ],
      "text/plain": [
       "Hora do Início Viagem             0    1    2    3    4    5     6      7   \\\n",
       "Dia da Semana do Início Viagem                                               \n",
       "Monday                          1237  305  204  172  134  323  2081  11329   \n",
       "Tuesday                         1435  261  121  132   86  243  2032  11471   \n",
       "Wednesday                       1503  343  167  134  160  291  2054  11295   \n",
       "Thursday                        1558  282  144  125  112  291  2131  11144   \n",
       "Friday                          1763  351  170  132  142  256  2221  10699   \n",
       "Saturday                        2514  596  328  245  221  259   965   2134   \n",
       "Sunday                          2234  580  355  268  248  230   646   1236   \n",
       "\n",
       "Hora do Início Viagem              8      9   ...    14    15     16     17  \\\n",
       "Dia da Semana do Início Viagem                ...                             \n",
       "Monday                          23623  15090  ...  8399  8035   9815  16759   \n",
       "Tuesday                         23922  15176  ...  8359  8291  10045  16812   \n",
       "Wednesday                       23567  15245  ...  8619  8257  10551  17044   \n",
       "Thursday                        23536  15547  ...  8842  8496  10401  16711   \n",
       "Friday                          23365  14840  ...  9338  8998  11419  17061   \n",
       "Saturday                         3647   4157  ...  5740  6474   6583   6573   \n",
       "Sunday                           1726   2278  ...  3828  4509   5025   4909   \n",
       "\n",
       "Hora do Início Viagem              18     19    20    21    22    23  \n",
       "Dia da Semana do Início Viagem                                        \n",
       "Monday                          24257  14230  6509  3046  2595  2334  \n",
       "Tuesday                         24364  14499  6902  3400  2987  2532  \n",
       "Wednesday                       25018  15227  6833  3484  3234  2606  \n",
       "Thursday                        24169  15027  7411  3649  2983  2450  \n",
       "Friday                          22989  14090  7852  4059  3214  3046  \n",
       "Saturday                         7333   6859  4906  3226  2970  2830  \n",
       "Sunday                           5121   4720  3547  2485  2298  1862  \n",
       "\n",
       "[7 rows x 24 columns]"
      ]
     },
     "execution_count": 39,
     "metadata": {},
     "output_type": "execute_result"
    }
   ],
   "source": [
    "df_hour_per_weekday.pivot_table(index='Dia da Semana do Início Viagem', columns='Hora do Início Viagem', values='Viagem', aggfunc='sum', fill_value=0)"
   ]
  },
  {
   "cell_type": "code",
   "execution_count": 40,
   "metadata": {},
   "outputs": [
    {
     "data": {
      "image/png": "[encoded data removed]",
      "text/plain": [
       "<Figure size 1440x1080 with 1 Axes>"
      ]
     },
     "metadata": {
      "needs_background": "light"
     },
     "output_type": "display_data"
    }
   ],
   "source": [
    "df_hour_per_weekday.pivot_table(index='Dia da Semana do Início Viagem', columns='Hora do Início Viagem', values='Viagem', aggfunc='sum', fill_value=0).plot.bar(stacked=True, figsize=(20, 15))\n",
    "plt.xticks(fontsize=20)\n",
    "plt.legend(prop={'size': 12})\n",
    "plt.show()"
   ]
  },
  {
   "cell_type": "code",
   "execution_count": 41,
   "metadata": {},
   "outputs": [],
   "source": [
    "df_start_zone = data_df.groupby([\"Zona de Início Viagem\"])['Viagem'].count().sort_values(ascending=False)\n",
    "df_end_zone = data_df.groupby([\"Zona de Fim Viagem\"])['Viagem'].count().sort_values(ascending=False)"
   ]
  },
  {
   "cell_type": "code",
   "execution_count": 42,
   "metadata": {
    "scrolled": false
   },
   "outputs": [
    {
     "data": {
      "image/png": "[encoded data removed]",
      "text/plain": [
       "<Figure size 1440x648 with 1 Axes>"
      ]
     },
     "metadata": {
      "needs_background": "light"
     },
     "output_type": "display_data"
    }
   ],
   "source": [
    "ax = plt.gca()\n",
    "df_start_zone[df_start_zone > 1000].T.plot(label=\"Zona de Inicio\", color='green', kind='bar', stacked=True, ax=ax, position=0, x='index',y='Viagem', figsize=(20, 9), fontsize=12)\n",
    "df_end_zone[df_end_zone > 1000].T.plot(label=\"Zona de Fim\", color='red', kind='bar', stacked=True, ax=ax, position=1, x='index',y='Viagem', figsize=(20, 9), fontsize=12)\n",
    "ax.tick_params(axis='x', colors='blue')\n",
    "ax.tick_params(axis='y', colors='blue')\n",
    "ax.legend(fontsize=20)\n",
    "plt.xlabel(\"Frequency\")\n",
    "plt.ylabel(\"Zones\")\n",
    "plt.show()"
   ]
  },
  {
   "cell_type": "code",
   "execution_count": 43,
   "metadata": {},
   "outputs": [
    {
     "data": {
      "text/plain": [
       "<AxesSubplot:ylabel='Zona de Início Viagem'>"
      ]
     },
     "execution_count": 43,
     "metadata": {},
     "output_type": "execute_result"
    },
    {
     "data": {
      "image/png": "[encoded data removed]",
      "text/plain": [
       "<Figure size 1440x1080 with 1 Axes>"
      ]
     },
     "metadata": {
      "needs_background": "light"
     },
     "output_type": "display_data"
    }
   ],
   "source": [
    "df_user_start_zone = data_df.groupby([\"user_id\", \"Zona de Início Viagem\"])['Viagem'].count().groupby(\"Zona de Início Viagem\").mean().sort_values(ascending=True)\n",
    "df_user_start_zone.plot.barh(x=\"Zona de Início Viagem\", y = \"index\", figsize=(20, 15))"
   ]
  }
 ],
 "metadata": {
  "kernelspec": {
   "display_name": "Python 3",
   "language": "python",
   "name": "python3"
  },
  "language_info": {
   "codemirror_mode": {
    "name": "ipython",
    "version": 3
   },
   "file_extension": ".py",
   "mimetype": "text/x-python",
   "name": "python",
   "nbconvert_exporter": "python",
   "pygments_lexer": "ipython3",
   "version": "3.8.5"
  }
 },
 "nbformat": 4,
 "nbformat_minor": 4
}
